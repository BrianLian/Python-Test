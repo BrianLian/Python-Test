{
 "cells": [
  {
   "cell_type": "code",
   "execution_count": 1,
   "metadata": {},
   "outputs": [],
   "source": [
    "import numpy as np"
   ]
  },
  {
   "cell_type": "code",
   "execution_count": 2,
   "metadata": {},
   "outputs": [],
   "source": [
    "### 走過所有路徑 並找出安全序列\n",
    "def find_safe_arr(finsh_arr, all_allocation, all_need, available, history=None):\n",
    "    history = [{\n",
    "        'pids':                [],\n",
    "        'origin_availables':   [],\n",
    "        'release_availables':  []\n",
    "    }] if history is None else history\n",
    "    \n",
    "\n",
    "    checked_pid = np.where((all_need <= available).all(axis=1))[0] # 這會找出小於available的pid\n",
    "    checked_pid = np.setxor1d(np.where(finsh_arr==1), checked_pid) # 用finsh_arr去除掉已經走過的路徑\n",
    "#     print(checked_pid)\n",
    "    \n",
    "    for pid in checked_pid:\n",
    "\n",
    "        ### 走沒走過的地方\n",
    "        fa = np.array(finsh_arr) # 把走過的路複製一份\n",
    "        fa[pid] = 1 # 把現在的路標記\n",
    "\n",
    "        ### 若為某一路徑分支  將路徑補齊\n",
    "        if len(history[-1]['pids']) != len(np.where(finsh_arr==1)[0]):\n",
    "            history[-1]['pids'].extend(history[-2]['pids'][:len(np.where(finsh_arr==1)[0])])\n",
    "            history[-1]['origin_availables'].extend(history[-2]['origin_availables'][:len(np.where(finsh_arr==1)[0])])\n",
    "            history[-1]['release_availables'].extend(history[-2]['release_availables'][:len(np.where(finsh_arr==1)[0])])\n",
    "\n",
    "        history[-1]['pids'].append(pid)\n",
    "        history[-1]['origin_availables'].append(list(available))\n",
    "        history[-1]['release_availables'].append(list(available + all_allocation[pid]))\n",
    "\n",
    "        find_safe_arr(fa, all_allocation, all_need, available + all_allocation[pid], history)\n",
    "\n",
    "    \n",
    "    if (finsh_arr == True).all():\n",
    "        ### 如果為完整安全序列\n",
    "        history.append({\n",
    "            'pids':                [],\n",
    "            'origin_availables':   [],\n",
    "            'release_availables':  []\n",
    "        })\n",
    "    return history\n",
    "\n",
    "\n",
    "### 發出請求\n",
    "def a_request(pid, request, all_allocation, all_need, available):\n",
    "    pid -= 1\n",
    "    if (request <= all_need[pid]).all() and (request <= available).all():\n",
    "        new_available            = np.copy(available) - request\n",
    "        new_all_allocation       = np.copy(all_allocation)\n",
    "        new_all_need             = np.copy(all_need)\n",
    "\n",
    "        new_all_allocation[pid] += request\n",
    "        new_all_need[pid]       -= request\n",
    "        return True, new_all_allocation, new_all_need, new_available\n",
    "    else:\n",
    "        return False, all_allocation, all_need, available"
   ]
  },
  {
   "cell_type": "markdown",
   "metadata": {},
   "source": [
    "## 依題目設定"
   ]
  },
  {
   "cell_type": "code",
   "execution_count": 3,
   "metadata": {},
   "outputs": [],
   "source": [
    "all_allocation = np.array([\n",
    "    [3, 1, 1, 1],\n",
    "    [1, 0, 1, 0],\n",
    "    [2, 2, 0, 0]\n",
    "])\n",
    "\n",
    "all_max = np.array([\n",
    "    [3, 2, 1, 4],\n",
    "    [2, 1, 2, 1],\n",
    "    [4, 3, 2, 1]\n",
    "])"
   ]
  },
  {
   "cell_type": "code",
   "execution_count": 4,
   "metadata": {},
   "outputs": [],
   "source": [
    "all_need   = all_max - all_allocation\n",
    "available  = np.array([12, 8, 5, 6])"
   ]
  },
  {
   "cell_type": "markdown",
   "metadata": {},
   "source": [
    "## 1. 請列出 Allocation、Max、Available 及 Need 各執行緒序列之內容。"
   ]
  },
  {
   "cell_type": "code",
   "execution_count": 5,
   "metadata": {},
   "outputs": [
    {
     "name": "stdout",
     "output_type": "stream",
     "text": [
      "Allocation:\n",
      " [[3 1 1 1]\n",
      " [1 0 1 0]\n",
      " [2 2 0 0]]\n",
      "Max:\n",
      " [[3 2 1 4]\n",
      " [2 1 2 1]\n",
      " [4 3 2 1]]\n",
      "Available:\n",
      " [12  8  5  6]\n",
      "Need:\n",
      " [[0 1 0 3]\n",
      " [1 1 1 1]\n",
      " [2 1 2 1]]\n"
     ]
    }
   ],
   "source": [
    "print('Allocation:\\n', all_allocation)\n",
    "print('Max:\\n', all_max)\n",
    "print('Available:\\n', available)\n",
    "print('Need:\\n', all_need)"
   ]
  },
  {
   "cell_type": "markdown",
   "metadata": {},
   "source": [
    "## 2. 請列出至少兩組的安全序列，例如：P0、P1、P2、P3、P4。"
   ]
  },
  {
   "cell_type": "code",
   "execution_count": 6,
   "metadata": {},
   "outputs": [
    {
     "name": "stdout",
     "output_type": "stream",
     "text": [
      "\n",
      "執行程序(pid): [0, 1, 2]\n",
      "原始資源(available): [[12, 8, 5, 6], [15, 9, 6, 7], [16, 9, 7, 7]]\n",
      "資源釋放(available): [[15, 9, 6, 7], [16, 9, 7, 7], [18, 11, 7, 7]]\n",
      "\n",
      "執行程序(pid): [0, 2, 1]\n",
      "原始資源(available): [[12, 8, 5, 6], [15, 9, 6, 7], [17, 11, 6, 7]]\n",
      "資源釋放(available): [[15, 9, 6, 7], [17, 11, 6, 7], [18, 11, 7, 7]]\n",
      "\n",
      "執行程序(pid): [1, 0, 2]\n",
      "原始資源(available): [[12, 8, 5, 6], [13, 8, 6, 6], [16, 9, 7, 7]]\n",
      "資源釋放(available): [[13, 8, 6, 6], [16, 9, 7, 7], [18, 11, 7, 7]]\n",
      "\n",
      "執行程序(pid): [1, 2, 0]\n",
      "原始資源(available): [[12, 8, 5, 6], [13, 8, 6, 6], [15, 10, 6, 6]]\n",
      "資源釋放(available): [[13, 8, 6, 6], [15, 10, 6, 6], [18, 11, 7, 7]]\n",
      "\n",
      "執行程序(pid): [2, 0, 1]\n",
      "原始資源(available): [[12, 8, 5, 6], [14, 10, 5, 6], [17, 11, 6, 7]]\n",
      "資源釋放(available): [[14, 10, 5, 6], [17, 11, 6, 7], [18, 11, 7, 7]]\n",
      "\n",
      "執行程序(pid): [2, 1, 0]\n",
      "原始資源(available): [[12, 8, 5, 6], [14, 10, 5, 6], [15, 10, 6, 6]]\n",
      "資源釋放(available): [[14, 10, 5, 6], [15, 10, 6, 6], [18, 11, 7, 7]]\n"
     ]
    }
   ],
   "source": [
    "### 尋找安全序列\n",
    "finsh      = np.zeros(all_need.shape[0])\n",
    "history    = find_safe_arr(finsh, all_allocation, all_need, available)[:-1]\n",
    "### 印出安全序列及經過的available\n",
    "for his in history:\n",
    "    print()\n",
    "    print('執行程序(pid):', his['pids'])\n",
    "    print('原始資源(available):', his['origin_availables'])\n",
    "    print('資源釋放(available):', his['release_availables'])"
   ]
  },
  {
   "cell_type": "markdown",
   "metadata": {},
   "source": [
    "## 3. 在某個時候，P3 請求系統給予 3 個 A 資源、2 個 B 資源及 1 個 C 資源。可否能被允許？"
   ]
  },
  {
   "cell_type": "code",
   "execution_count": 7,
   "metadata": {},
   "outputs": [],
   "source": [
    "pid = 3\n",
    "request = np.array([3, 2, 1, 0])"
   ]
  },
  {
   "cell_type": "code",
   "execution_count": 8,
   "metadata": {},
   "outputs": [
    {
     "name": "stdout",
     "output_type": "stream",
     "text": [
      "失敗: request大於need或available\n"
     ]
    }
   ],
   "source": [
    "### 發出請求\n",
    "chker, test_all_allocation, test_all_need, test_available = a_request(pid, request, all_allocation, all_need, available)\n",
    "if chker:\n",
    "    ### 若在合理範圍(即request小於need和available)\n",
    "\n",
    "    ### 尋找安全序列(利用暫時修改變數進行安全序列檢查)\n",
    "    finsh      = np.zeros(all_need.shape[0])\n",
    "    history    = find_safe_arr(finsh, test_all_allocation, test_all_need, test_available)[:-1]\n",
    "    \n",
    "    if len(history) > 0:\n",
    "        print('成功: request存在安全序列')\n",
    "        ### 印出安全序列及經過的available\n",
    "        for his in history:\n",
    "            print()\n",
    "            print('執行程序(pid):', his['pids'])\n",
    "            print('原始資源(available):', his['origin_availables'])\n",
    "            print('資源釋放(available):', his['release_availables'])\n",
    "\n",
    "    else:\n",
    "        print('失敗: request不存在安全序列')\n",
    "else:\n",
    "    print('失敗: request大於need或available')\n"
   ]
  },
  {
   "cell_type": "code",
   "execution_count": null,
   "metadata": {},
   "outputs": [],
   "source": []
  }
 ],
 "metadata": {
  "kernelspec": {
   "display_name": "Python 3",
   "language": "python",
   "name": "python3"
  },
  "language_info": {
   "codemirror_mode": {
    "name": "ipython",
    "version": 3
   },
   "file_extension": ".py",
   "mimetype": "text/x-python",
   "name": "python",
   "nbconvert_exporter": "python",
   "pygments_lexer": "ipython3",
   "version": "3.7.4"
  }
 },
 "nbformat": 4,
 "nbformat_minor": 4
}
