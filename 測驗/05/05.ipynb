{
 "cells": [
  {
   "cell_type": "markdown",
   "metadata": {},
   "source": [
    "▶ 5. Given (I): Given n friends, each one can remain single or can be paired up with some other friend. Each friend can be paired only once. Find out the total number of ways in which friends can remain single or can be paired up.\n",
    "\n",
    "Examples :\n",
    "Input  : n = 3\n",
    "Output : 4\n",
    "\n",
    "Explanation\n",
    "{1}, {2}, {3} : all single\n",
    "{1}, {2,3} : 2 and 3 paired but 1 is single.\n",
    "{1,2}, {3} : 1 and 2 are paired but 3 is single.\n",
    "{1,3}, {2} : 1 and 3 are paired but 2 is single.\n",
    "Note that {1,2} and {2,1} are considered same.\n",
    "\n",
    "Given (II):\n",
    "f(n) = ways n people can remain single \n",
    "       or pair up.\n",
    "\n",
    "For n-th person there are two choices:\n",
    "1) n-th person remains single, we recur \n",
    "   for f(n - 1)\n",
    "2) n-th person pairs up with any of the \n",
    "   remaining n - 1 persons. We get (n - 1) * f(n - 2)\n",
    "\n",
    "Therefore we can recursively write f(n) as:\n",
    "f(n) = f(n - 1) + (n - 1) * f(n - 2)\n"
   ]
  },
  {
   "cell_type": "code",
   "execution_count": null,
   "metadata": {},
   "outputs": [],
   "source": []
  }
 ],
 "metadata": {
  "kernelspec": {
   "display_name": "Python 3",
   "language": "python",
   "name": "python3"
  },
  "language_info": {
   "codemirror_mode": {
    "name": "ipython",
    "version": 3
   },
   "file_extension": ".py",
   "mimetype": "text/x-python",
   "name": "python",
   "nbconvert_exporter": "python",
   "pygments_lexer": "ipython3",
   "version": "3.7.5"
  }
 },
 "nbformat": 4,
 "nbformat_minor": 4
}
