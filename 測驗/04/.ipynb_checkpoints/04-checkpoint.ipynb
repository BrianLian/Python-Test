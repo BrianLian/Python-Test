{
 "cells": [
  {
   "cell_type": "markdown",
   "metadata": {},
   "source": [
    "▶ 4. Given (I): Given an array a, we have to find minimum product possible with the subset of elements present in the array. The minimum product can be single element also.\n",
    "\n",
    "Examples:\n",
    "Input : a[] = { -1, -1, -2, 4, 3 }\n",
    "Output : -24\n",
    "Explanation : Minimum product will be ( -2 * -1 * -1 * 4 * 3 ) = -24\n",
    "\n",
    "Input : a[] = { -1, 0 }\n",
    "Output : -1\n",
    "Explanation : -1(single element) is minimum product possible\n",
    " \n",
    "Input : a[] = { 0, 0, 0 }\n",
    "Output : 0\n"
   ]
  },
  {
   "cell_type": "code",
   "execution_count": 1,
   "metadata": {},
   "outputs": [],
   "source": [
    "def minimum_prod(arr):\n",
    "    min_prod_val = None\n",
    "    for val in arr:\n",
    "        if val is not 0:\n",
    "            min_prod_val = min_prod_val * val if min_prod_val is not None else val\n",
    "    return min_prod_val if min_prod_val is not None else 0"
   ]
  },
  {
   "cell_type": "code",
   "execution_count": 2,
   "metadata": {},
   "outputs": [
    {
     "name": "stdout",
     "output_type": "stream",
     "text": [
      "Output:-24\n"
     ]
    }
   ],
   "source": [
    "a = [-1, -1, -2, 4, 3]\n",
    "print('Output:{}'.format(minimum_prod(a)))"
   ]
  },
  {
   "cell_type": "code",
   "execution_count": 3,
   "metadata": {},
   "outputs": [
    {
     "name": "stdout",
     "output_type": "stream",
     "text": [
      "Output:-1\n"
     ]
    }
   ],
   "source": [
    "a = [-1, 0] \n",
    "print('Output:{}'.format(minimum_prod(a)))"
   ]
  },
  {
   "cell_type": "code",
   "execution_count": 4,
   "metadata": {},
   "outputs": [
    {
     "name": "stdout",
     "output_type": "stream",
     "text": [
      "Output:0\n"
     ]
    }
   ],
   "source": [
    "a = [0, 0, 0]\n",
    "print('Output:{}'.format(minimum_prod(a)))"
   ]
  },
  {
   "cell_type": "code",
   "execution_count": 5,
   "metadata": {},
   "outputs": [
    {
     "name": "stdout",
     "output_type": "stream",
     "text": [
      "Output:4356\n"
     ]
    }
   ],
   "source": [
    "a = [-2, -66, 33, 0]\n",
    "print('Output:{}'.format(minimum_prod(a)))"
   ]
  },
  {
   "cell_type": "code",
   "execution_count": null,
   "metadata": {},
   "outputs": [],
   "source": []
  }
 ],
 "metadata": {
  "kernelspec": {
   "display_name": "Python 3",
   "language": "python",
   "name": "python3"
  },
  "language_info": {
   "codemirror_mode": {
    "name": "ipython",
    "version": 3
   },
   "file_extension": ".py",
   "mimetype": "text/x-python",
   "name": "python",
   "nbconvert_exporter": "python",
   "pygments_lexer": "ipython3",
   "version": "3.7.5"
  }
 },
 "nbformat": 4,
 "nbformat_minor": 4
}
