{
 "cells": [
  {
   "cell_type": "markdown",
   "metadata": {},
   "source": [
    "▶ 1. Given: Office visitors come and go, each visitor will register his/her\n",
    "arrival and departure time. Please implement a function, when given a\n",
    "certain time period, it will return the maximum number of visitors during\n",
    "the time period.\n"
   ]
  },
  {
   "cell_type": "markdown",
   "metadata": {},
   "source": [
    "### 我的做法\n",
    "    schedule會是每個到訪者的 [到達時間, 離開時間] 如下\n",
    "    schedule = [\n",
    "        [0, 1],\n",
    "        [1.5, 2],\n",
    "        [1.5, 3],\n",
    "        [2, 4],\n",
    "        [2, 6],\n",
    "            .\n",
    "            .\n",
    "            .\n",
    "    ]"
   ]
  },
  {
   "cell_type": "code",
   "execution_count": 1,
   "metadata": {},
   "outputs": [],
   "source": [
    "schedule = [\n",
    "    [0, 1],\n",
    "    [1.5, 2],\n",
    "    [1.5, 3],\n",
    "    [2, 4],\n",
    "    [2, 6],\n",
    "    [3, 4],\n",
    "    [3.5, 4],\n",
    "    [5, 5.5],\n",
    "    \n",
    "]"
   ]
  },
  {
   "cell_type": "markdown",
   "metadata": {},
   "source": [
    "### 我的做法\n",
    "    maximum_of_visitors\n",
    "    1. 判斷schedule內時間與certain_time是否重疊(取出在certain_time時間段的訪問時間段)\n",
    "\n",
    "        |-----|-----|-----|-----|-----|-----|-----|\n",
    "        0     1     2     3     4     5     6     7\n",
    "                                                    ∥ schedule\n",
    "        =========================================================\n",
    "        |-----|                                     ∥ schedule[0]\n",
    "                 |--|                               ∥ schedule[1]\n",
    "                 |--------|                         ∥ schedule[2]\n",
    "                    |-----------|                   ∥ schedule[3]\n",
    "                    |-----------------------|       ∥ schedule[4]\n",
    "                          |-----|                   ∥ schedule[5]\n",
    "                             |--|                   ∥ schedule[6]\n",
    "                                      |--|          ∥ schedule[7]\n",
    "\n",
    "                 *--------------* (certain time = [1.5, 4]) = [[1.5, 2], [1.5, 3], [2, 4], [2, 6], [3, 4], [3.5, 4]]\n",
    "\n",
    "    2. 判段各個時間段的重疊次數 找出最大值(峰值)\n",
    "        \n"
   ]
  },
  {
   "cell_type": "code",
   "execution_count": 2,
   "metadata": {},
   "outputs": [],
   "source": [
    "def check_overlapping(time1, time2):\n",
    "    '''確認兩條時間線是否重疊'''\n",
    "    if time1[0] > time2[1] or time1[1] < time2[0]:\n",
    "        return False\n",
    "    return True\n",
    "\n",
    "def maximum_of_visitors(schedule, certain_time):\n",
    "    cnts = []\n",
    "    visitors = []\n",
    "\n",
    "    # 從行程表取出在時間區間內的訪問者時間\n",
    "    for time in schedule:\n",
    "        if(check_overlapping(certain_time, time)):\n",
    "            visitors.append(time)\n",
    "\n",
    "    # 判斷訪問者時間與時間之間的重疊次數\n",
    "    for i in range(len(visitors)):\n",
    "        cnt = 0\n",
    "        for j in range(i, len(visitors)):\n",
    "            if(check_overlapping(visitors[i], visitors[j])):\n",
    "                cnt += 1\n",
    "        cnts.append(cnt)\n",
    "\n",
    "    return max(cnts)\n"
   ]
  },
  {
   "cell_type": "code",
   "execution_count": 3,
   "metadata": {},
   "outputs": [
    {
     "data": {
      "text/plain": [
       "2"
      ]
     },
     "execution_count": 3,
     "metadata": {},
     "output_type": "execute_result"
    }
   ],
   "source": [
    "maximum_of_visitors(schedule, [0, 1.5])"
   ]
  },
  {
   "cell_type": "code",
   "execution_count": 4,
   "metadata": {},
   "outputs": [
    {
     "data": {
      "text/plain": [
       "4"
      ]
     },
     "execution_count": 4,
     "metadata": {},
     "output_type": "execute_result"
    }
   ],
   "source": [
    "maximum_of_visitors(schedule, [3, 4])"
   ]
  },
  {
   "cell_type": "code",
   "execution_count": 5,
   "metadata": {},
   "outputs": [
    {
     "data": {
      "text/plain": [
       "2"
      ]
     },
     "execution_count": 5,
     "metadata": {},
     "output_type": "execute_result"
    }
   ],
   "source": [
    "maximum_of_visitors(schedule, [4.1, 5])"
   ]
  },
  {
   "cell_type": "code",
   "execution_count": 6,
   "metadata": {},
   "outputs": [
    {
     "data": {
      "text/plain": [
       "3"
      ]
     },
     "execution_count": 6,
     "metadata": {},
     "output_type": "execute_result"
    }
   ],
   "source": [
    "maximum_of_visitors(schedule, [2.1, 2.5])"
   ]
  },
  {
   "cell_type": "code",
   "execution_count": null,
   "metadata": {},
   "outputs": [],
   "source": [
    "\n",
    "        "
   ]
  },
  {
   "cell_type": "code",
   "execution_count": null,
   "metadata": {},
   "outputs": [],
   "source": []
  }
 ],
 "metadata": {
  "kernelspec": {
   "display_name": "Python 3",
   "language": "python",
   "name": "python3"
  },
  "language_info": {
   "codemirror_mode": {
    "name": "ipython",
    "version": 3
   },
   "file_extension": ".py",
   "mimetype": "text/x-python",
   "name": "python",
   "nbconvert_exporter": "python",
   "pygments_lexer": "ipython3",
   "version": "3.7.5"
  }
 },
 "nbformat": 4,
 "nbformat_minor": 4
}
