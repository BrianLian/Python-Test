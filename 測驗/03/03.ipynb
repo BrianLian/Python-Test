{
 "cells": [
  {
   "cell_type": "markdown",
   "metadata": {},
   "source": [
    "▶ 3. Given (I): The Fibonacci numbers are the numbers in the following integer sequence.\n",
    "0, 1, 1, 2, 3, 5, 8, 13, 21, 34, 55, 89, 144, ……..\n",
    "In mathematical terms, the sequence Fn of Fibonacci numbers is defined by the recurrence relation\n",
    "    Fn = Fn-1 + Fn-2\n",
    "with seed values\n",
    "    F0 = 0 and F1 = 1.\n",
    "\n",
    "Write a function int fib(int n) that returns Fn. For example, if n = 0, then fib() should return 0. If n = 1, then it should return 1. For n > 1, it should return Fn-1 + Fn-2\n",
    "\n",
    "Input  : n = 2\n",
    "Output : 1\n",
    "\n",
    "Input  : n = 9\n",
    "Output : 34"
   ]
  },
  {
   "cell_type": "code",
   "execution_count": 1,
   "metadata": {},
   "outputs": [],
   "source": [
    "def Fn(n):\n",
    "    if n==0:\n",
    "        return 0\n",
    "    elif n==1:\n",
    "        return 1\n",
    "    return Fn(n-1) + Fn(n-2)"
   ]
  },
  {
   "cell_type": "markdown",
   "metadata": {},
   "source": [
    "### Fn(2) 執行過程\n",
    "    Fn(2)\n",
    "    |\n",
    "    |\n",
    "    n=2, return Fn(1) + Fn(0)\n",
    "                 |       |\n",
    "                 |       n=0, return 0\n",
    "                 |\n",
    "                 n=1, return 1"
   ]
  },
  {
   "cell_type": "code",
   "execution_count": 2,
   "metadata": {},
   "outputs": [
    {
     "name": "stdout",
     "output_type": "stream",
     "text": [
      "Input:2, Output:1\n"
     ]
    }
   ],
   "source": [
    "n = 2\n",
    "print('Input:{}, Output:{}'.format(n, Fn(n)))"
   ]
  },
  {
   "cell_type": "code",
   "execution_count": 3,
   "metadata": {},
   "outputs": [
    {
     "name": "stdout",
     "output_type": "stream",
     "text": [
      "Input:9, Output:34\n"
     ]
    }
   ],
   "source": [
    "n = 9\n",
    "print('Input:{}, Output:{}'.format(n, Fn(n)))"
   ]
  },
  {
   "cell_type": "code",
   "execution_count": 4,
   "metadata": {},
   "outputs": [],
   "source": [
    "def try_parse_int(str_val):\n",
    "    try:\n",
    "        return int(str_val)\n",
    "    except:\n",
    "        return None"
   ]
  },
  {
   "cell_type": "code",
   "execution_count": 5,
   "metadata": {},
   "outputs": [
    {
     "name": "stdout",
     "output_type": "stream",
     "text": [
      "\n",
      "\n",
      "input a number to calc Fib.\n",
      "Input 'exit' will exit the process.\n",
      ">>>n=6\n",
      "Fn(6)=8\n",
      "\n",
      "\n",
      "input a number to calc Fib.\n",
      "Input 'exit' will exit the process.\n",
      ">>>n=10\n",
      "Fn(10)=55\n",
      "\n",
      "\n",
      "input a number to calc Fib.\n",
      "Input 'exit' will exit the process.\n",
      ">>>n=20\n",
      "Fn(20)=6765\n",
      "\n",
      "\n",
      "input a number to calc Fib.\n",
      "Input 'exit' will exit the process.\n",
      ">>>n=22\n",
      "Fn(22)=17711\n",
      "\n",
      "\n",
      "input a number to calc Fib.\n",
      "Input 'exit' will exit the process.\n",
      ">>>n=25\n",
      "Fn(25)=75025\n",
      "\n",
      "\n",
      "input a number to calc Fib.\n",
      "Input 'exit' will exit the process.\n",
      ">>>n=27\n",
      "Fn(27)=196418\n",
      "\n",
      "\n",
      "input a number to calc Fib.\n",
      "Input 'exit' will exit the process.\n",
      ">>>n=28\n",
      "Fn(28)=317811\n",
      "\n",
      "\n",
      "input a number to calc Fib.\n",
      "Input 'exit' will exit the process.\n",
      ">>>n=29\n",
      "Fn(29)=514229\n",
      "\n",
      "\n",
      "input a number to calc Fib.\n",
      "Input 'exit' will exit the process.\n",
      ">>>n=exit\n"
     ]
    }
   ],
   "source": [
    "while True:\n",
    "    print('\\n\\ninput a number to calc Fib.\\nInput \\'exit\\' will exit the process.')\n",
    "    n = input('>>>n=')\n",
    "    if n == 'exit':\n",
    "        break\n",
    "    n = try_parse_int(n)\n",
    "    if n == None:\n",
    "        print('please input a number.')\n",
    "    else:\n",
    "        print('Fn({})={}'.format(n, Fn(n)))"
   ]
  },
  {
   "cell_type": "code",
   "execution_count": null,
   "metadata": {},
   "outputs": [],
   "source": []
  }
 ],
 "metadata": {
  "kernelspec": {
   "display_name": "Python 3",
   "language": "python",
   "name": "python3"
  },
  "language_info": {
   "codemirror_mode": {
    "name": "ipython",
    "version": 3
   },
   "file_extension": ".py",
   "mimetype": "text/x-python",
   "name": "python",
   "nbconvert_exporter": "python",
   "pygments_lexer": "ipython3",
   "version": "3.7.5"
  }
 },
 "nbformat": 4,
 "nbformat_minor": 4
}
